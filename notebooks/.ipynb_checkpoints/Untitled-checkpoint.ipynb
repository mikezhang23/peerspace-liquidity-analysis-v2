{
 "cells": [
  {
   "cell_type": "code",
   "execution_count": null,
   "id": "235ab0c7-0929-4181-b059-1b1908eb1a51",
   "metadata": {},
   "outputs": [],
   "source": []
  }
 ],
 "metadata": {
  "kernelspec": {
   "display_name": "",
   "name": ""
  },
  "language_info": {
   "name": ""
  }
 },
 "nbformat": 4,
 "nbformat_minor": 5
}
